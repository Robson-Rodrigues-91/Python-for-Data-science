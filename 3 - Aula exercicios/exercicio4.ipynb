{
 "cells": [
  {
   "cell_type": "markdown",
   "metadata": {},
   "source": [
    "<b>Exercicio</b>\n",
    "4. Nesta etapa quero que vc crie um novo dataframe, uma variavel, ela só poderá ter pessoas do sexo masculino e que tenham mais que 35 anos de idade."
   ]
  },
  {
   "cell_type": "code",
   "execution_count": 2,
   "metadata": {},
   "outputs": [
    {
     "name": "stdout",
     "output_type": "stream",
     "text": [
      "     PassengerId  Survived  Pclass                            Name   Sex  \\\n",
      "6              7         0       1         McCarthy, Mr. Timothy J  male   \n",
      "13            14         0       3     Andersson, Mr. Anders Johan  male   \n",
      "30            31         0       1        Uruchurtu, Don. Manuel E  male   \n",
      "33            34         0       2           Wheadon, Mr. Edward H  male   \n",
      "35            36         0       1  Holverson, Mr. Alexander Oskar  male   \n",
      "..           ...       ...     ...                             ...   ...   \n",
      "845          846         0       3             Abbing, Mr. Anthony  male   \n",
      "851          852         0       3             Svensson, Mr. Johan  male   \n",
      "857          858         1       1          Daly, Mr. Peter Denis   male   \n",
      "860          861         0       3         Hansen, Mr. Claus Peter  male   \n",
      "873          874         0       3     Vander Cruyssen, Mr. Victor  male   \n",
      "\n",
      "      Age  SibSp  Parch      Ticket     Fare Cabin Embarked  \n",
      "6    54.0      0      0       17463  51.8625   E46        S  \n",
      "13   39.0      1      5      347082  31.2750   NaN        S  \n",
      "30   40.0      0      0    PC 17601  27.7208   NaN        C  \n",
      "33   66.0      0      0  C.A. 24579  10.5000   NaN        S  \n",
      "35   42.0      1      0      113789  52.0000   NaN        S  \n",
      "..    ...    ...    ...         ...      ...   ...      ...  \n",
      "845  42.0      0      0   C.A. 5547   7.5500   NaN        S  \n",
      "851  74.0      0      0      347060   7.7750   NaN        S  \n",
      "857  51.0      0      0      113055  26.5500   E17        S  \n",
      "860  41.0      2      0      350026  14.1083   NaN        S  \n",
      "873  47.0      0      0      345765   9.0000   NaN        S  \n",
      "\n",
      "[144 rows x 12 columns]\n"
     ]
    }
   ],
   "source": [
    "# Importando a biblioteca pandas\n",
    "import pandas as pd\n",
    "\n",
    "# Passando o valor do arquivo para uma variavel\n",
    "titanic_data = pd.read_csv('titanic.csv')\n",
    "\n",
    "# Criando um novo dataframe com algumas regras de exibição\n",
    "new_titanic_data = titanic_data.loc[(titanic_data.Sex == 'male') & (titanic_data.Age > 35)]\n",
    "\n",
    "# Exibindo o novo dataframe\n",
    "print(new_titanic_data)"
   ]
  },
  {
   "cell_type": "code",
   "execution_count": null,
   "metadata": {},
   "outputs": [],
   "source": []
  }
 ],
 "metadata": {
  "kernelspec": {
   "display_name": "Python 3",
   "language": "python",
   "name": "python3"
  },
  "language_info": {
   "codemirror_mode": {
    "name": "ipython",
    "version": 3
   },
   "file_extension": ".py",
   "mimetype": "text/x-python",
   "name": "python",
   "nbconvert_exporter": "python",
   "pygments_lexer": "ipython3",
   "version": "3.8.3"
  }
 },
 "nbformat": 4,
 "nbformat_minor": 4
}
