{
 "cells": [
  {
   "cell_type": "code",
   "execution_count": 8,
   "metadata": {},
   "outputs": [
    {
     "name": "stdout",
     "output_type": "stream",
     "text": [
      "Digite uma operação matemática para ser executada. Ex: adição, subtração, multiplicação ou divisao.  multiplicação\n",
      "\n",
      "O Resultado é:200\n"
     ]
    }
   ],
   "source": [
    "valor1 = 10\n",
    "valor2 = 20\n",
    "\n",
    "calc = input(\"Digite uma operação matemática para ser executada. Ex: adição, subtração, multiplicação ou divisao.  \")\n",
    "\n",
    "if calc == \"adição\":\n",
    "    result = valor1 + valor2\n",
    "elif calc == \"subtração\":\n",
    "    result = valor1 - valor2\n",
    "elif calc == \"multiplicação\":\n",
    "    result = valor1 * valor2\n",
    "elif calc == \"adição\":\n",
    "    result = valor1 - valor2\n",
    "else:\n",
    "    print(\"operação matematica digitada esta incorreta!\")\n",
    "    \n",
    "print(\"\\nO Resultado é:\" + str(result))\n"
   ]
  },
  {
   "cell_type": "code",
   "execution_count": null,
   "metadata": {},
   "outputs": [],
   "source": []
  },
  {
   "cell_type": "code",
   "execution_count": null,
   "metadata": {},
   "outputs": [],
   "source": []
  },
  {
   "cell_type": "code",
   "execution_count": null,
   "metadata": {},
   "outputs": [],
   "source": []
  },
  {
   "cell_type": "code",
   "execution_count": null,
   "metadata": {},
   "outputs": [],
   "source": []
  },
  {
   "cell_type": "code",
   "execution_count": null,
   "metadata": {},
   "outputs": [],
   "source": []
  }
 ],
 "metadata": {
  "kernelspec": {
   "display_name": "Python 3",
   "language": "python",
   "name": "python3"
  },
  "language_info": {
   "codemirror_mode": {
    "name": "ipython",
    "version": 3
   },
   "file_extension": ".py",
   "mimetype": "text/x-python",
   "name": "python",
   "nbconvert_exporter": "python",
   "pygments_lexer": "ipython3",
   "version": "3.8.3"
  }
 },
 "nbformat": 4,
 "nbformat_minor": 4
}
