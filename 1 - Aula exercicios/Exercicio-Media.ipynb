{
 "cells": [
  {
   "cell_type": "code",
   "execution_count": 7,
   "metadata": {},
   "outputs": [
    {
     "name": "stdout",
     "output_type": "stream",
     "text": [
      "\n",
      " A quantidade de numeros é 6, numeros somados é 81, resultado da media:13.5\n"
     ]
    }
   ],
   "source": [
    "valores = [9,6,7,3,8,8,\"oito\", \"A\", \"C\"]\n",
    "valores.remove(\"oito\")\n",
    "valores.remove(\"A\")\n",
    "valores.remove(\"C\")\n",
    "total = len(valores)\n",
    "soma = 0\n",
    "for valor in valores:\n",
    "    soma = valor + soma\n",
    "\n",
    "media = soma / total\n",
    "\n",
    "print(\"\\n A quantidade de numeros é \" + str(total) + \", numeros somados é \" + str(soma) + \", resultado da media:\" + str(media))\n"
   ]
  },
  {
   "cell_type": "code",
   "execution_count": null,
   "metadata": {},
   "outputs": [],
   "source": [
    "\n",
    "    "
   ]
  },
  {
   "cell_type": "code",
   "execution_count": null,
   "metadata": {},
   "outputs": [],
   "source": []
  },
  {
   "cell_type": "code",
   "execution_count": null,
   "metadata": {},
   "outputs": [],
   "source": []
  },
  {
   "cell_type": "code",
   "execution_count": null,
   "metadata": {},
   "outputs": [],
   "source": []
  }
 ],
 "metadata": {
  "kernelspec": {
   "display_name": "Python 3",
   "language": "python",
   "name": "python3"
  },
  "language_info": {
   "codemirror_mode": {
    "name": "ipython",
    "version": 3
   },
   "file_extension": ".py",
   "mimetype": "text/x-python",
   "name": "python",
   "nbconvert_exporter": "python",
   "pygments_lexer": "ipython3",
   "version": "3.8.3"
  }
 },
 "nbformat": 4,
 "nbformat_minor": 4
}
