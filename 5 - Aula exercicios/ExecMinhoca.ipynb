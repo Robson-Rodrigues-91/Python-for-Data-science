{
 "cells": [
  {
   "cell_type": "markdown",
   "metadata": {},
   "source": [
    "<b>Exercício do Poço</b>"
   ]
  },
  {
   "cell_type": "code",
   "execution_count": null,
   "metadata": {},
   "outputs": [],
   "source": []
  },
  {
   "cell_type": "code",
   "execution_count": 11,
   "metadata": {},
   "outputs": [
    {
     "name": "stdin",
     "output_type": "stream",
     "text": [
      "Qual a profundidade do poço? 20\n",
      "Quantos Metros a minhoca irá subir por dia? 4\n"
     ]
    },
    {
     "name": "stdout",
     "output_type": "stream",
     "text": [
      "Tamanho do poço: 20,  quantidade de metros a subir:  4, total de dias que irá demorar: 7\n"
     ]
    }
   ],
   "source": [
    "# Criando a classe minhoca\n",
    "class Minhoca:\n",
    "    \n",
    "    # Definindo as variaveis\n",
    "    tamanho_poco = 0\n",
    "    metro_subir = 0\n",
    "    posicao = 0\n",
    "    dias_corridos = 0\n",
    "    \n",
    "    # Metodo Construtor\n",
    "    def __init__(self, tamanho_poco, metro_subir):\n",
    "        self.metro_subir = metro_subir\n",
    "        self.tamanho_poco = tamanho_poco\n",
    "    \n",
    "    # Metodo que mostra a descida do poço\n",
    "    def descendo_poco(self):\n",
    "        self.posicao -= 1\n",
    "    \n",
    "    # Metodo que mostra a subida do poço\n",
    "    def subindo_poco(self):\n",
    "        self.dias_corridos += 1\n",
    "        self.posicao += self.metro_subir\n",
    "    \n",
    "    # Executando as funcoes enquanto tiver valor\n",
    "    def saindo_poco(self):\n",
    "        while (self.posicao < self.tamanho_poco):\n",
    "            self.subindo_poco()\n",
    "            self.descendo_poco()\n",
    "\n",
    "\n",
    "# Coletando informações do usuário \n",
    "tamanho_poco = input(\"Qual a profundidade do poço?\")\n",
    "quantidade_metro = input(\"Quantos Metros a minhoca irá subir por dia?\")\n",
    "\n",
    "# Convertendo o valor para inteiro antes de jogar na função\n",
    "tamanho_poco = int(tamanho_poco)\n",
    "quantidade_metro = int(quantidade_metro)\n",
    "\n",
    "# Passando informações para dentro da classe\n",
    "percurso = Minhoca(tamanho_poco, quantidade_metro)\n",
    "\n",
    "#Executando a Funcao que faz o processo de calcular o tempo demorado\n",
    "percurso.saindo_poco()\n",
    "\n",
    "#Coletando informação do tempo demorado\n",
    "total_dias = percurso.dias_corridos\n",
    "\n",
    "print(f\"Tamanho do poço: {tamanho_poco},  quantidade de metros a subir:  {quantidade_metro}, total de dias que irá demorar: {total_dias} dias.\")"
   ]
  },
  {
   "cell_type": "code",
   "execution_count": null,
   "metadata": {},
   "outputs": [],
   "source": []
  },
  {
   "cell_type": "code",
   "execution_count": null,
   "metadata": {},
   "outputs": [],
   "source": []
  }
 ],
 "metadata": {
  "kernelspec": {
   "display_name": "Python 3",
   "language": "python",
   "name": "python3"
  },
  "language_info": {
   "codemirror_mode": {
    "name": "ipython",
    "version": 3
   },
   "file_extension": ".py",
   "mimetype": "text/x-python",
   "name": "python",
   "nbconvert_exporter": "python",
   "pygments_lexer": "ipython3",
   "version": "3.8.3"
  }
 },
 "nbformat": 4,
 "nbformat_minor": 4
}
