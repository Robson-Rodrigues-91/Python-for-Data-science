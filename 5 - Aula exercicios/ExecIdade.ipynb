{
 "cells": [
  {
   "cell_type": "code",
   "execution_count": null,
   "metadata": {},
   "outputs": [],
   "source": []
  },
  {
   "cell_type": "code",
   "execution_count": 14,
   "metadata": {},
   "outputs": [
    {
     "name": "stdout",
     "output_type": "stream",
     "text": [
      "Calcula ano\n",
      "18\n"
     ]
    }
   ],
   "source": [
    "class Pessoa:\n",
    "#     ano_nasc = 0\n",
    "#     ano_atual = 0\n",
    "    \n",
    "#     def __init__(self, ano_nasc, ano_atual):\n",
    "#         self.ano_nasc = ano_nasc\n",
    "#         self.ano_atual = ano_atual\n",
    "#         print(\"Calcula ano\")\n",
    "\n",
    "    def __init__(self):\n",
    "        print(\"Calcula ano\")\n",
    "        \n",
    "    def setAnoNasc(self,ano_nasc):\n",
    "        self.ano_nasc = ano_nasc\n",
    "        \n",
    "    def getAnoNasc(self):\n",
    "        return self.ano_nasc\n",
    "    \n",
    "    def setAnoAtual(self,ano_atual):\n",
    "        self.ano_atual = ano_atual\n",
    "        \n",
    "    def getAnoAtual(self):\n",
    "        return self.ano_atual\n",
    "    \n",
    "    def calculaAno(self):\n",
    "        idade = self.ano_atual - self.ano_nasc\n",
    "        return idade\n",
    "    \n",
    "idade = Pessoa()\n",
    "\n",
    "idade.setAnoNasc(1991)\n",
    "idade.setAnoAtual(2009)\n",
    "print(idade.calculaAno())"
   ]
  },
  {
   "cell_type": "code",
   "execution_count": null,
   "metadata": {},
   "outputs": [],
   "source": []
  },
  {
   "cell_type": "code",
   "execution_count": null,
   "metadata": {},
   "outputs": [],
   "source": []
  }
 ],
 "metadata": {
  "kernelspec": {
   "display_name": "Python 3",
   "language": "python",
   "name": "python3"
  },
  "language_info": {
   "codemirror_mode": {
    "name": "ipython",
    "version": 3
   },
   "file_extension": ".py",
   "mimetype": "text/x-python",
   "name": "python",
   "nbconvert_exporter": "python",
   "pygments_lexer": "ipython3",
   "version": "3.8.3"
  }
 },
 "nbformat": 4,
 "nbformat_minor": 4
}
