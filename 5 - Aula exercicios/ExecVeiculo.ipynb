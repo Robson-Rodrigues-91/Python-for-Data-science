{
 "cells": [
  {
   "cell_type": "code",
   "execution_count": 10,
   "metadata": {},
   "outputs": [
    {
     "name": "stdout",
     "output_type": "stream",
     "text": [
      "Craindo a classe veiculo\n",
      "Meu carro  opala  da marca  GM  tem  4 rodas é da cor  rosa\n",
      "Azul\n"
     ]
    }
   ],
   "source": [
    "class Veiculo:\n",
    "    def __init__(self, modelo, marca, roda, cor):\n",
    "        print(\"Craindo a classe veiculo\")\n",
    "        self.marca = marca\n",
    "        self.modelo = modelo\n",
    "        self.cor = cor\n",
    "        self.roda = roda\n",
    "        print(\"Meu carro \", modelo,\" da marca \", marca,\" tem \", roda, \"rodas é da cor \", cor)\n",
    "    \n",
    "    def setMarca(self,marca):\n",
    "        self.marca = marca\n",
    "    \n",
    "    def setModelo(self,modelo):\n",
    "        self.modelo = modelo\n",
    "        \n",
    "    def setCor(self,cor):\n",
    "        self.cor = cor\n",
    "    \n",
    "    def setRoda(self,roda):\n",
    "        self.roda = roda\n",
    "    \n",
    "    def setNovaCor(self,nova_cor):\n",
    "        self.nova_cor = nova_cor\n",
    "        \n",
    "    def getMarca(self):\n",
    "        return self.marca\n",
    "    \n",
    "    def getModelo(self):\n",
    "        return self.modelo\n",
    "    \n",
    "    def getCor(self):\n",
    "        return self.cor\n",
    "    \n",
    "    def getRoda(self):\n",
    "        return self.roda\n",
    "    \n",
    "    def getNovaCor(self):\n",
    "        return self.nova_cor\n",
    "    \n",
    "\n",
    "carro = Veiculo(\"opala\", \"GM\", 4, \"rosa\")\n",
    "\n",
    "carro.setCor(\"Rosa\")\n",
    "carro.setModelo(\"Opala\")\n",
    "carro.setMarca(\"GM\")\n",
    "carro.setRoda(5)\n",
    "carro.setNovaCor(\"Azul\")\n",
    "\n",
    "print(carro.getNovaCor())"
   ]
  },
  {
   "cell_type": "code",
   "execution_count": null,
   "metadata": {},
   "outputs": [],
   "source": []
  },
  {
   "cell_type": "code",
   "execution_count": null,
   "metadata": {},
   "outputs": [],
   "source": []
  },
  {
   "cell_type": "code",
   "execution_count": null,
   "metadata": {},
   "outputs": [],
   "source": []
  }
 ],
 "metadata": {
  "kernelspec": {
   "display_name": "Python 3",
   "language": "python",
   "name": "python3"
  },
  "language_info": {
   "codemirror_mode": {
    "name": "ipython",
    "version": 3
   },
   "file_extension": ".py",
   "mimetype": "text/x-python",
   "name": "python",
   "nbconvert_exporter": "python",
   "pygments_lexer": "ipython3",
   "version": "3.8.3"
  }
 },
 "nbformat": 4,
 "nbformat_minor": 4
}
