{
 "cells": [
  {
   "cell_type": "code",
   "execution_count": 18,
   "metadata": {},
   "outputs": [
    {
     "name": "stdout",
     "output_type": "stream",
     "text": [
      "Calculadora Nova\n",
      "5\n"
     ]
    },
    {
     "data": {
      "text/plain": [
       "0.5"
      ]
     },
     "execution_count": 18,
     "metadata": {},
     "output_type": "execute_result"
    }
   ],
   "source": [
    "class Calculadora:\n",
    "   \n",
    "    def __init__(self):\n",
    "        print(\"Calculadora Nova\")\n",
    "        \n",
    "    \n",
    "    def adicao(self, valor1, valor2):\n",
    "        adicao = valor1 + valor2\n",
    "        return adicao\n",
    "    \n",
    "    def multiplicacao(self, valor1, valor2):\n",
    "        multiplicacao = valor1 * valor2\n",
    "        return multiplicacao\n",
    "    \n",
    "    def subtracao(self, valor1, valor2):\n",
    "        subtracao = valor1 - valor2\n",
    "        return subtracao\n",
    "    \n",
    "    def divisao(self, valor1, valor2):\n",
    "        if(valor2 != 0 ):\n",
    "            divisao = valor1 / valor2\n",
    "            return divisao\n",
    "        else:\n",
    "            return print(\"Valor da segunda variavel nao pode ser zero!\")\n",
    "\n",
    "total = Calculadora()\n",
    "\n",
    "print(total.adicao(2,3))\n",
    "total.subtracao(2,3)\n",
    "total.multiplicacao(10,54)\n",
    "total.divisao(2,4)\n"
   ]
  },
  {
   "cell_type": "code",
   "execution_count": null,
   "metadata": {},
   "outputs": [],
   "source": []
  },
  {
   "cell_type": "code",
   "execution_count": null,
   "metadata": {},
   "outputs": [],
   "source": []
  }
 ],
 "metadata": {
  "kernelspec": {
   "display_name": "Python 3",
   "language": "python",
   "name": "python3"
  },
  "language_info": {
   "codemirror_mode": {
    "name": "ipython",
    "version": 3
   },
   "file_extension": ".py",
   "mimetype": "text/x-python",
   "name": "python",
   "nbconvert_exporter": "python",
   "pygments_lexer": "ipython3",
   "version": "3.8.3"
  }
 },
 "nbformat": 4,
 "nbformat_minor": 4
}
