{
 "cells": [
  {
   "cell_type": "markdown",
   "metadata": {},
   "source": [
    "<b>Exercícios</b>\n",
    "   1 - Criar uma lista de 100 numeros e somar e exibir o resultado.\n",
    "   2 - Somar os números pares.\n",
    "   3 - Somar os números impares.\n",
    "   "
   ]
  },
  {
   "cell_type": "code",
   "execution_count": 12,
   "metadata": {},
   "outputs": [
    {
     "name": "stdout",
     "output_type": "stream",
     "text": [
      "[0, 1, 2, 3, 4, 5, 6, 7, 8, 9, 10, 11, 12, 13, 14, 15, 16, 17, 18, 19, 20, 21, 22, 23, 24, 25, 26, 27, 28, 29, 30, 31, 32, 33, 34, 35, 36, 37, 38, 39, 40, 41, 42, 43, 44, 45, 46, 47, 48, 49, 50, 51, 52, 53, 54, 55, 56, 57, 58, 59, 60, 61, 62, 63, 64, 65, 66, 67, 68, 69, 70, 71, 72, 73, 74, 75, 76, 77, 78, 79, 80, 81, 82, 83, 84, 85, 86, 87, 88, 89, 90, 91, 92, 93, 94, 95, 96, 97, 98, 99, 100]\n",
      "Total somado:  5050\n",
      "Total somado numeros pares:  2550\n",
      "Total somado numeros pares:  2500\n"
     ]
    }
   ],
   "source": [
    "# Criando uma lista de 100 numeros\n",
    "lista_numeros = list(range(0,101))\n",
    "lista_par = []\n",
    "lista_impar = []\n",
    "soma = 0\n",
    "\n",
    "# Exibindo os valores \n",
    "print(lista_numeros)\n",
    "\n",
    "# somando os valores usando for \n",
    "for numero in lista_numeros:\n",
    "    soma += numero\n",
    "    \n",
    "    if numero % 2 == 0:\n",
    "        lista_par.append(numero)\n",
    "    else:\n",
    "        lista_impar.append(numero)\n",
    "\n",
    "# Exibindo informações\n",
    "print(\"Total somado: \", soma)\n",
    "\n",
    "# Somando os numeros pares\n",
    "print(\"Total somado numeros pares: \", sum(lista_par))\n",
    "\n",
    "# Somando os numeros impares\n",
    "print(\"Total somado numeros pares: \", sum(lista_impar))\n",
    "    \n",
    "\n",
    "\n",
    "    "
   ]
  },
  {
   "cell_type": "code",
   "execution_count": null,
   "metadata": {},
   "outputs": [],
   "source": []
  },
  {
   "cell_type": "code",
   "execution_count": null,
   "metadata": {},
   "outputs": [],
   "source": []
  }
 ],
 "metadata": {
  "kernelspec": {
   "display_name": "Python 3",
   "language": "python",
   "name": "python3"
  },
  "language_info": {
   "codemirror_mode": {
    "name": "ipython",
    "version": 3
   },
   "file_extension": ".py",
   "mimetype": "text/x-python",
   "name": "python",
   "nbconvert_exporter": "python",
   "pygments_lexer": "ipython3",
   "version": "3.8.3"
  }
 },
 "nbformat": 4,
 "nbformat_minor": 4
}
