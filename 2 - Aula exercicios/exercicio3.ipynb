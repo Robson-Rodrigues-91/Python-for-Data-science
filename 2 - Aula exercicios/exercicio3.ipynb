{
 "cells": [
  {
   "cell_type": "markdown",
   "metadata": {},
   "source": [
    "Exercicio 2. vamos voltar a feira, crie um dicionario, com os seguintes itens: banana = 0.98, maçã = 7.00, pera = 5.00, cenoura = 3.5\n",
    "Apos montar o dicionario, quero que fa"
   ]
  },
  {
   "cell_type": "code",
   "execution_count": 5,
   "metadata": {},
   "outputs": [
    {
     "name": "stdout",
     "output_type": "stream",
     "text": [
      "('banana', 0.98)\n",
      "('maçã', 7.0)\n",
      "('cenoura', 3.5)\n",
      "('uva', 1.47)\n",
      "('laranha', 1.89)\n"
     ]
    }
   ],
   "source": [
    "# Criando uma lista de informações \n",
    "frutas = dict({\"banana\": 0.98, \"maçã\": 7.00, \"cenoura\": 3.5, \"uva\": 1.47, \"laranha\": 1.89})\n",
    "\n",
    "# Printando as informações do dicionario \n",
    "for valor in frutas.items():\n",
    "    print(valor)"
   ]
  },
  {
   "cell_type": "code",
   "execution_count": null,
   "metadata": {},
   "outputs": [],
   "source": []
  }
 ],
 "metadata": {
  "kernelspec": {
   "display_name": "Python 3",
   "language": "python",
   "name": "python3"
  },
  "language_info": {
   "codemirror_mode": {
    "name": "ipython",
    "version": 3
   },
   "file_extension": ".py",
   "mimetype": "text/x-python",
   "name": "python",
   "nbconvert_exporter": "python",
   "pygments_lexer": "ipython3",
   "version": "3.8.3"
  }
 },
 "nbformat": 4,
 "nbformat_minor": 4
}
