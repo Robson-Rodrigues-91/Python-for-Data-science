{
 "cells": [
  {
   "cell_type": "markdown",
   "metadata": {},
   "source": [
    "<b>Exercicio2.</b> Lista: (4,5,3,4,56,3,2,31,1,7,8,9,0,234,7,8,9). Orde a lista mostre os valores repitidos."
   ]
  },
  {
   "cell_type": "code",
   "execution_count": 6,
   "metadata": {},
   "outputs": [
    {
     "name": "stdout",
     "output_type": "stream",
     "text": [
      "[0, 1, 2, 3, 4, 5, 7, 8, 9, 31, 56, 234]\n",
      "[4, 3, 7, 8, 9]\n"
     ]
    }
   ],
   "source": [
    "# lista de informações \n",
    "numeros = [4, 5, 3, 4, 56, 3, 2, 31, 1, 7, 8, 9, 0, 234, 7, 8, 9]\n",
    "\n",
    "# Lista para armazenar os numeros repetidos e ordenados\n",
    "numeros_repetidos = []\n",
    "numeros_ordenados = []\n",
    "\n",
    "# for para ler as informações da lista numeros\n",
    "for i in numeros:\n",
    "    if i not in numeros_ordenados:\n",
    "        numeros_ordenados.append(i)\n",
    "        numeros_ordenados.sort()\n",
    "    else:\n",
    "        numeros_repetidos.append(i)\n",
    "\n",
    "# Printando numros ordenados \n",
    "print(numeros_ordenados)\n",
    "\n",
    "# Printando numeros repetidos\n",
    "print(numeros_repetidos)"
   ]
  },
  {
   "cell_type": "code",
   "execution_count": null,
   "metadata": {},
   "outputs": [],
   "source": []
  },
  {
   "cell_type": "code",
   "execution_count": null,
   "metadata": {},
   "outputs": [],
   "source": []
  },
  {
   "cell_type": "code",
   "execution_count": null,
   "metadata": {},
   "outputs": [],
   "source": []
  },
  {
   "cell_type": "code",
   "execution_count": null,
   "metadata": {},
   "outputs": [],
   "source": []
  },
  {
   "cell_type": "code",
   "execution_count": null,
   "metadata": {},
   "outputs": [],
   "source": []
  },
  {
   "cell_type": "code",
   "execution_count": null,
   "metadata": {},
   "outputs": [],
   "source": []
  },
  {
   "cell_type": "code",
   "execution_count": null,
   "metadata": {},
   "outputs": [],
   "source": []
  },
  {
   "cell_type": "code",
   "execution_count": null,
   "metadata": {},
   "outputs": [],
   "source": []
  },
  {
   "cell_type": "code",
   "execution_count": null,
   "metadata": {},
   "outputs": [],
   "source": []
  },
  {
   "cell_type": "code",
   "execution_count": null,
   "metadata": {},
   "outputs": [],
   "source": []
  }
 ],
 "metadata": {
  "kernelspec": {
   "display_name": "Python 3",
   "language": "python",
   "name": "python3"
  },
  "language_info": {
   "codemirror_mode": {
    "name": "ipython",
    "version": 3
   },
   "file_extension": ".py",
   "mimetype": "text/x-python",
   "name": "python",
   "nbconvert_exporter": "python",
   "pygments_lexer": "ipython3",
   "version": "3.8.3"
  }
 },
 "nbformat": 4,
 "nbformat_minor": 4
}
