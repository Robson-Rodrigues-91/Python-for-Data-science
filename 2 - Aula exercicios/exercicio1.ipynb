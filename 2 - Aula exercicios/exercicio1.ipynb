{
 "cells": [
  {
   "cell_type": "code",
   "execution_count": null,
   "metadata": {},
   "outputs": [],
   "source": []
  },
  {
   "cell_type": "markdown",
   "metadata": {},
   "source": [
    "<b>Exercicio 1.</b> Hummm interessante, agora que vimos nossa primeira estrutura de dados, vamos fazer um exercicio bem legal.\n",
    "Voce tem uma tupla chamada feira.\n",
    "A feira contém: banana, pera, batata, uva, cebola, alho e açucar.\n",
    "\n",
    "Teu chefe te mandou a feira, e pediu para voce contrar esses produtos, um deles não da para comprar lá remova ele da lista. No caminho ele te ligou mandou voce também comprar maça e cenoura.\n",
    "\n",
    "Ele é mega chato, e mandou voce separar em duas sacolas, o que é fruta e o que é legume e entregar tudo ordenado.\n",
    "\n",
    "<b>feira = \"banana\", \"pera\", \"batata\", \"uva\", \"cebola\", \"alho\", \"açucar\"\"</b>"
   ]
  },
  {
   "cell_type": "code",
   "execution_count": 5,
   "metadata": {},
   "outputs": [
    {
     "name": "stdout",
     "output_type": "stream",
     "text": [
      "['banana', 'pera', 'batata', 'uva', 'cebola', 'alho', 'maçã', 'cenoura']\n",
      "['banana', 'maçã', 'pera', 'uva']\n",
      "['batata', 'cebola', 'cenoura']\n"
     ]
    }
   ],
   "source": [
    "# Lista com as informações \n",
    "feira = [\"banana\",\"pera\",\"batata\",\"uva\",\"cebola\",\"alho\",\"açucar\"]\n",
    "\n",
    "# Criando as listas para separar as frutas\n",
    "frutas = []\n",
    "legumes = []\n",
    "\n",
    "# Removendo o açucar, pois não dá para comprar na feira\n",
    "feira.remove(\"açucar\")\n",
    "\n",
    "# Adicionando os restantes da informações\n",
    "feira.append(\"maçã\")\n",
    "feira.append(\"cenoura\")\n",
    "\n",
    "# Mostrando os dados \n",
    "print(feira)\n",
    "\n",
    "# Verificando as informações usando o for\n",
    "for valor in feira:\n",
    "    \n",
    "    if valor == 'banana': \n",
    "        frutas.append(valor) \n",
    "    elif valor == 'pera': \n",
    "        frutas.append(valor) \n",
    "    elif valor == \"batata\": \n",
    "        legumes.append(valor)\n",
    "    elif valor == 'uva': \n",
    "        frutas.append(valor) \n",
    "    elif valor == 'cebola': \n",
    "        legumes.append(valor) \n",
    "    elif valor == \"maçã\": \n",
    "        frutas.append(valor) \n",
    "    elif valor == \"cenoura\": \n",
    "        legumes.append(valor) \n",
    "\n",
    "# Ordenando as listas\n",
    "frutas.sort()\n",
    "legumes.sort()\n",
    "\n",
    "# exibindo as informações na tela\n",
    "print(frutas)\n",
    "print(legumes)\n",
    "    "
   ]
  },
  {
   "cell_type": "code",
   "execution_count": null,
   "metadata": {},
   "outputs": [],
   "source": []
  }
 ],
 "metadata": {
  "kernelspec": {
   "display_name": "Python 3",
   "language": "python",
   "name": "python3"
  },
  "language_info": {
   "codemirror_mode": {
    "name": "ipython",
    "version": 3
   },
   "file_extension": ".py",
   "mimetype": "text/x-python",
   "name": "python",
   "nbconvert_exporter": "python",
   "pygments_lexer": "ipython3",
   "version": "3.8.3"
  }
 },
 "nbformat": 4,
 "nbformat_minor": 4
}
